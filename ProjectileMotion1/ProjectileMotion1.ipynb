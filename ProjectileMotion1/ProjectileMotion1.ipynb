{
 "cells": [
  {
   "cell_type": "code",
   "execution_count": 1,
   "metadata": {},
   "outputs": [],
   "source": [
    "import scipy as sc\n",
    "import pandas as pd\n",
    "from seaborn import scatterplot,pointplot\n",
    "import matplotlib.pyplot as plt\n",
    "import re\n",
    "import math\n",
    "from sklearn.linear_model import LinearRegression\n",
    "from io import StringIO"
   ]
  },
  {
   "cell_type": "code",
   "execution_count": 2,
   "metadata": {},
   "outputs": [],
   "source": [
    "class ProjectileData:\n",
    "    def __init__(self,file_name):\n",
    "        self.pj_data = pd.DataFrame(columns=['Run','File_name','Velocity','Flight_time'])\n",
    "        self.add(file_name)\n",
    "    \n",
    "    def add(self,file_name):\n",
    "        runs = []\n",
    "        velocities = []\n",
    "        flight_times = []\n",
    "        file_names = []\n",
    "        with open(file_name,'r') as f:\n",
    "            run_str = ''\n",
    "            velocity = None\n",
    "            flight_time = None\n",
    "            start_read = False\n",
    "            end_read = False\n",
    "            for line in f:\n",
    "                if line == '\\n':\n",
    "                    continue\n",
    "                if line.startswith('Vernier') and start_read:\n",
    "                    end_read = True\n",
    "                    if flight_time > 2.0 or flight_time < 0.5:\n",
    "                        run_str = ''\n",
    "                        velocity = None\n",
    "                        flight_time = None\n",
    "                        start_read = False\n",
    "                        continue\n",
    "                    runs.append(run_str)\n",
    "                    velocities.append(velocity)\n",
    "                    flight_times.append(flight_time)\n",
    "                    file_names.append(file_name)\n",
    "                    run_str = ''\n",
    "                    velocity = None\n",
    "                    flight_time = None\n",
    "                    start_read = False\n",
    "                    continue\n",
    "                if line.startswith('Run'):\n",
    "                    run_str = line.rstrip('\\n')\n",
    "                    start_read = True\n",
    "                    end_read = False\n",
    "                    continue\n",
    "                if start_read and not end_read:\n",
    "                    if line.isspace():\n",
    "                        continue\n",
    "                    if line.startswith('Time') or line.startswith('T') or line.startswith('s'):\n",
    "                        continue\n",
    "                    tmp_line = line.rstrip('\\t\\n')\n",
    "                    if len(tmp_line.split('\\t')) == 4 and velocity is None:\n",
    "                        velocity = float(tmp_line.split('\\t')[3])\n",
    "                        continue\n",
    "                    if velocity is not None:\n",
    "                        flight_time = float(line.split('\\t')[0])\n",
    "                        \n",
    "        data = pd.DataFrame()\n",
    "        data['Run'] = runs\n",
    "        data['File_name'] = file_names\n",
    "        data['Velocity'] = velocities\n",
    "        data['Flight_time'] = flight_times\n",
    "        self.pj_data = pd.concat([self.pj_data,data])\n"
   ]
  },
  {
   "cell_type": "code",
   "execution_count": 3,
   "metadata": {
    "scrolled": false
   },
   "outputs": [],
   "source": [
    "pj = ProjectileData('Launch_Data_Back_Group.txt')"
   ]
  },
  {
   "cell_type": "code",
   "execution_count": 4,
   "metadata": {},
   "outputs": [
    {
     "name": "stdout",
     "output_type": "stream",
     "text": [
      "       Run                   File_name  Velocity  Flight_time\n",
      "0    Run 2  Launch_Data_Back_Group.txt     5.147      1.45177\n",
      "1    Run 3  Launch_Data_Back_Group.txt     4.964      1.44735\n",
      "2    Run 4  Launch_Data_Back_Group.txt     4.924      1.44601\n",
      "3    Run 5  Launch_Data_Back_Group.txt     5.103      1.44589\n",
      "4    Run 6  Launch_Data_Back_Group.txt     5.100      1.44618\n",
      "5    Run 7  Launch_Data_Back_Group.txt     5.046      1.44627\n",
      "6    Run 8  Launch_Data_Back_Group.txt     4.509      1.44479\n",
      "7    Run 9  Launch_Data_Back_Group.txt     4.560      1.44456\n",
      "8   Run 10  Launch_Data_Back_Group.txt     4.394      1.44640\n",
      "9   Run 11  Launch_Data_Back_Group.txt     4.695      1.44680\n",
      "10  Run 12  Launch_Data_Back_Group.txt     4.717      1.44589\n",
      "11  Run 13  Launch_Data_Back_Group.txt     4.650      1.44369\n",
      "12  Run 14  Launch_Data_Back_Group.txt     5.536      1.44625\n"
     ]
    }
   ],
   "source": [
    "print(pj.pj_data)"
   ]
  },
  {
   "cell_type": "code",
   "execution_count": 5,
   "metadata": {},
   "outputs": [],
   "source": [
    "pj2 = ProjectileData('Launch_Data_Front_Group.txt')"
   ]
  },
  {
   "cell_type": "code",
   "execution_count": 6,
   "metadata": {},
   "outputs": [
    {
     "name": "stdout",
     "output_type": "stream",
     "text": [
      "       Run                    File_name  Velocity  Flight_time\n",
      "0    Run 1  Launch_Data_Front_Group.txt     5.863      1.46139\n",
      "1    Run 2  Launch_Data_Front_Group.txt     5.879      1.46153\n",
      "2    Run 3  Launch_Data_Front_Group.txt     6.004      1.46192\n",
      "3    Run 4  Launch_Data_Front_Group.txt     6.027      1.46063\n",
      "4    Run 5  Launch_Data_Front_Group.txt     6.050      1.46155\n",
      "5    Run 6  Launch_Data_Front_Group.txt     6.034      1.46069\n",
      "6    Run 8  Launch_Data_Front_Group.txt     6.332      1.46021\n",
      "7   Run 11  Launch_Data_Front_Group.txt     5.597      1.45836\n",
      "8   Run 12  Launch_Data_Front_Group.txt     4.229      1.45286\n",
      "9   Run 13  Launch_Data_Front_Group.txt     4.076      1.45257\n",
      "10  Run 14  Launch_Data_Front_Group.txt     4.057      1.45258\n"
     ]
    }
   ],
   "source": [
    "print(pj2.pj_data)"
   ]
  },
  {
   "cell_type": "code",
   "execution_count": 7,
   "metadata": {},
   "outputs": [
    {
     "name": "stdout",
     "output_type": "stream",
     "text": [
      "1.4462961538461536 0.0005301252131500242\n",
      "1.4585718181818181 0.0011784919625458356\n"
     ]
    }
   ],
   "source": [
    "mean_flight_time = pj.pj_data['Flight_time'].mean()\n",
    "std_flight_time = pj.pj_data['Flight_time'].std()\n",
    "flight_time_err = std_flight_time/math.sqrt(len(pj.pj_data))\n",
    "print(mean_flight_time,std_flight_time/math.sqrt(len(pj.pj_data)))\n",
    "\n",
    "pj.pj_data['Range'] = pj.pj_data['Velocity']*pj.pj_data['Flight_time']\n",
    "pj.pj_data['Range_error'] = std_flight_time/math.sqrt(len(pj.pj_data))/mean_flight_time*pj.pj_data['Range']\n",
    "\n",
    "mean_flight_time2 = pj2.pj_data['Flight_time'].mean()\n",
    "std_flight_time2 = pj2.pj_data['Flight_time'].std()\n",
    "flight_time_err2 = std_flight_time2/math.sqrt(len(pj2.pj_data))\n",
    "print(mean_flight_time2,std_flight_time2/math.sqrt(len(pj2.pj_data)))\n",
    "\n",
    "pj2.pj_data['Range'] = pj2.pj_data['Velocity']*pj2.pj_data['Flight_time']\n",
    "pj2.pj_data['Range_error'] = std_flight_time2/math.sqrt(len(pj2.pj_data))/mean_flight_time2*pj2.pj_data['Range']"
   ]
  },
  {
   "cell_type": "code",
   "execution_count": 8,
   "metadata": {},
   "outputs": [],
   "source": [
    "pj_df = pd.concat([pj.pj_data,pj2.pj_data])"
   ]
  },
  {
   "cell_type": "code",
   "execution_count": 27,
   "metadata": {},
   "outputs": [
    {
     "name": "stdout",
     "output_type": "stream",
     "text": [
      "$R^{2}$: 0.9996480358252922\n",
      "intercept: -0.05794781339086086\n",
      "slope: 1.458236237020778\n",
      "[<matplotlib.collections.PathCollection object at 0x0000022E67FFAA90>, <matplotlib.collections.PathCollection object at 0x0000022E67FFAF70>]\n",
      "$R^{2}$: 0.9972518840551069\n",
      "intercept: -0.10630348157762892\n",
      "slope: 1.478569467768736\n"
     ]
    },
    {
     "data": {
      "image/png": "[encoded data removed]",
      "text/plain": [
       "<Figure size 432x288 with 1 Axes>"
      ]
     },
     "metadata": {
      "needs_background": "light"
     },
     "output_type": "display_data"
    }
   ],
   "source": [
    "fig = plt.figure()\n",
    "ax = scatterplot(data=pj_df,x='Velocity',y='Range',hue='File_name',s=50)\n",
    "\n",
    "X = pj.pj_data.iloc[:, 2].values.reshape(-1, 1)\n",
    "Y = pj.pj_data.iloc[:, 4].values.reshape(-1, 1)\n",
    "model = LinearRegression()\n",
    "model.fit(X,Y)\n",
    "\n",
    "r2 = model.score(X,Y)\n",
    "y_int = model.intercept_[0]\n",
    "slope = model.coef_[0][0]\n",
    "print(r'$R^{2}$:',r2)\n",
    "print('intercept:', y_int)\n",
    "print('slope:', slope)\n",
    "\n",
    "pj_pred = model.predict(X2)\n",
    "ax.plot(X2,pj_pred,color='red',linestyle='-',linewidth=0.5)\n",
    "legend_labels, _= ax.get_legend_handles_labels()\n",
    "print(legend_labels)\n",
    "ax.legend(legend_labels, ['Back group','Front group'])\n",
    "ax.set_xlabel('Velocity (m/s)')\n",
    "ax.set_ylabel('Range (m)')\n",
    "ax.annotate(r'Back group',(5.,6.75),c='red')\n",
    "ax.annotate(r'$R^{2} = %0.4f$'%r2,(5.,6.5),c='red')\n",
    "ax.annotate(r'$b = %0.4f~\\mathrm{m}$'%y_int,(5.,6.25),c='red')\n",
    "ax.annotate(r'$m = %0.4f~\\mathrm{s}$'%slope,(5.,6.0),c='red')\n",
    "ax.annotate(r'm-err$= %0.4f~\\mathrm{s}$'%flight_time_err,(5.,5.75),c='red')\n",
    "\n",
    "X2 = pj2.pj_data.iloc[:, 2].values.reshape(-1, 1)\n",
    "Y2 = pj2.pj_data.iloc[:, 4].values.reshape(-1, 1)\n",
    "model2 = LinearRegression()\n",
    "model2.fit(X2,Y2)\n",
    "\n",
    "r22 = model.score(X2,Y2)\n",
    "y_int2 = model2.intercept_[0]\n",
    "slope2 = model2.coef_[0][0]\n",
    "print(r'$R^{2}$:',r22)\n",
    "print('intercept:', y_int2)\n",
    "print('slope:', slope2)\n",
    "\n",
    "pj2.pj_data['Range_prediction'] = model2.predict(X2)\n",
    "ax.plot(X2,pj2.pj_data['Range_prediction'],color='green',linestyle='-',linewidth=0.5)\n",
    "ax.set_xlabel('Velocity (m/s)')\n",
    "ax.set_ylabel('Range (m)')\n",
    "ax.annotate(r'Front group',(5.7,6.75),c='green')\n",
    "ax.annotate(r'$R^{2} = %0.4f$'%r22,(5.7,6.5),c='green')\n",
    "ax.annotate(r'$b = %0.4f~\\mathrm{m}$'%y_int2,(5.7,6.25),c='green')\n",
    "ax.annotate(r'$m = %0.4f~\\mathrm{s}$'%slope2,(5.7,6.0),c='green')\n",
    "ax.annotate(r'm-err$= %0.4f~\\mathrm{s}$'%flight_time_err2,(5.7,5.75),c='green')\n",
    "fig.savefig('projectile_motion1.pdf')"
   ]
  },
  {
   "cell_type": "code",
   "execution_count": null,
   "metadata": {},
   "outputs": [],
   "source": []
  },
  {
   "cell_type": "code",
   "execution_count": null,
   "metadata": {},
   "outputs": [],
   "source": []
  }
 ],
 "metadata": {
  "kernelspec": {
   "display_name": "Python 3 (ipykernel)",
   "language": "python",
   "name": "python3"
  },
  "language_info": {
   "codemirror_mode": {
    "name": "ipython",
    "version": 3
   },
   "file_extension": ".py",
   "mimetype": "text/x-python",
   "name": "python",
   "nbconvert_exporter": "python",
   "pygments_lexer": "ipython3",
   "version": "3.9.6"
  }
 },
 "nbformat": 4,
 "nbformat_minor": 4
}
