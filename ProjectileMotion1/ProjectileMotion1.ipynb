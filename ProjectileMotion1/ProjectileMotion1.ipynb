{
 "cells": [
  {
   "cell_type": "code",
   "execution_count": 332,
   "metadata": {},
   "outputs": [],
   "source": [
    "import scipy as sc\n",
    "import pandas as pd\n",
    "from seaborn import scatterplot,pointplot\n",
    "import matplotlib.pyplot as plt\n",
    "import re\n",
    "import math\n",
    "from sklearn.linear_model import LinearRegression\n",
    "from io import StringIO"
   ]
  },
  {
   "cell_type": "code",
   "execution_count": 333,
   "metadata": {},
   "outputs": [],
   "source": [
    "class ProjectileData:\n",
    "    def __init__(self,file_name):\n",
    "        self.pj_data = pd.DataFrame(columns=['Run','File_name','Velocity','Flight_time'])\n",
    "        self.add(file_name)\n",
    "    \n",
    "    def add(self,file_name):\n",
    "        runs = []\n",
    "        velocities = []\n",
    "        flight_times = []\n",
    "        file_names = []\n",
    "        with open(file_name,'r') as f:\n",
    "            run_str = ''\n",
    "            velocity = None\n",
    "            flight_time = None\n",
    "            start_read = False\n",
    "            end_read = False\n",
    "            for line in f:\n",
    "                if line == '\\n':\n",
    "                    continue\n",
    "                if line.startswith('Vernier') and start_read:\n",
    "                    end_read = True\n",
    "                    if flight_time > 2.0 or flight_time < 0.5:\n",
    "                        run_str = ''\n",
    "                        velocity = None\n",
    "                        flight_time = None\n",
    "                        start_read = False\n",
    "                        continue\n",
    "                    runs.append(run_str)\n",
    "                    velocities.append(velocity)\n",
    "                    flight_times.append(flight_time)\n",
    "                    file_names.append(file_name)\n",
    "                    run_str = ''\n",
    "                    velocity = None\n",
    "                    flight_time = None\n",
    "                    start_read = False\n",
    "                    continue\n",
    "                if line.startswith('Run'):\n",
    "                    run_str = line.rstrip('\\n')\n",
    "                    start_read = True\n",
    "                    end_read = False\n",
    "                    continue\n",
    "                if start_read and not end_read:\n",
    "                    if line.isspace():\n",
    "                        continue\n",
    "                    if line.startswith('Time') or line.startswith('T') or line.startswith('s'):\n",
    "                        continue\n",
    "                    tmp_line = line.rstrip('\\t\\n')\n",
    "                    if len(tmp_line.split('\\t')) == 4 and velocity is None:\n",
    "                        velocity = float(tmp_line.split('\\t')[3])\n",
    "                        continue\n",
    "                    if velocity is not None:\n",
    "                        flight_time = float(line.split('\\t')[0])\n",
    "                        \n",
    "        data = pd.DataFrame()\n",
    "        data['Run'] = runs\n",
    "        data['File_name'] = file_names\n",
    "        data['Velocity'] = velocities\n",
    "        data['Flight_time'] = flight_times\n",
    "        self.pj_data = pd.concat([self.pj_data,data])\n"
   ]
  },
  {
   "cell_type": "code",
   "execution_count": 334,
   "metadata": {
    "scrolled": false
   },
   "outputs": [],
   "source": [
    "pj = ProjectileData('D:BASIS/Labs/HonorsAP/Launch_Data_Back_Group.txt')"
   ]
  },
  {
   "cell_type": "code",
   "execution_count": 335,
   "metadata": {},
   "outputs": [
    {
     "name": "stdout",
     "output_type": "stream",
     "text": [
      "       Run                                         File_name  Velocity  \\\n",
      "0    Run 2  D:BASIS/Labs/HonorsAP/Launch_Data_Back_Group.txt     5.147   \n",
      "1    Run 3  D:BASIS/Labs/HonorsAP/Launch_Data_Back_Group.txt     4.964   \n",
      "2    Run 4  D:BASIS/Labs/HonorsAP/Launch_Data_Back_Group.txt     4.924   \n",
      "3    Run 5  D:BASIS/Labs/HonorsAP/Launch_Data_Back_Group.txt     5.103   \n",
      "4    Run 6  D:BASIS/Labs/HonorsAP/Launch_Data_Back_Group.txt     5.100   \n",
      "5    Run 7  D:BASIS/Labs/HonorsAP/Launch_Data_Back_Group.txt     5.046   \n",
      "6    Run 8  D:BASIS/Labs/HonorsAP/Launch_Data_Back_Group.txt     4.509   \n",
      "7    Run 9  D:BASIS/Labs/HonorsAP/Launch_Data_Back_Group.txt     4.560   \n",
      "8   Run 10  D:BASIS/Labs/HonorsAP/Launch_Data_Back_Group.txt     4.394   \n",
      "9   Run 11  D:BASIS/Labs/HonorsAP/Launch_Data_Back_Group.txt     4.695   \n",
      "10  Run 12  D:BASIS/Labs/HonorsAP/Launch_Data_Back_Group.txt     4.717   \n",
      "11  Run 13  D:BASIS/Labs/HonorsAP/Launch_Data_Back_Group.txt     4.650   \n",
      "12  Run 14  D:BASIS/Labs/HonorsAP/Launch_Data_Back_Group.txt     5.536   \n",
      "\n",
      "    Flight_time  \n",
      "0       1.45177  \n",
      "1       1.44735  \n",
      "2       1.44601  \n",
      "3       1.44589  \n",
      "4       1.44618  \n",
      "5       1.44627  \n",
      "6       1.44479  \n",
      "7       1.44456  \n",
      "8       1.44640  \n",
      "9       1.44680  \n",
      "10      1.44589  \n",
      "11      1.44369  \n",
      "12      1.44625  \n"
     ]
    }
   ],
   "source": [
    "print(pj.pj_data)"
   ]
  },
  {
   "cell_type": "code",
   "execution_count": 336,
   "metadata": {},
   "outputs": [],
   "source": [
    "pj.add('D:BASIS/Labs/HonorsAP/Launch_Data_Front_Group.txt')"
   ]
  },
  {
   "cell_type": "code",
   "execution_count": 337,
   "metadata": {},
   "outputs": [
    {
     "name": "stdout",
     "output_type": "stream",
     "text": [
      "       Run                                          File_name  Velocity  \\\n",
      "0    Run 2   D:BASIS/Labs/HonorsAP/Launch_Data_Back_Group.txt     5.147   \n",
      "1    Run 3   D:BASIS/Labs/HonorsAP/Launch_Data_Back_Group.txt     4.964   \n",
      "2    Run 4   D:BASIS/Labs/HonorsAP/Launch_Data_Back_Group.txt     4.924   \n",
      "3    Run 5   D:BASIS/Labs/HonorsAP/Launch_Data_Back_Group.txt     5.103   \n",
      "4    Run 6   D:BASIS/Labs/HonorsAP/Launch_Data_Back_Group.txt     5.100   \n",
      "5    Run 7   D:BASIS/Labs/HonorsAP/Launch_Data_Back_Group.txt     5.046   \n",
      "6    Run 8   D:BASIS/Labs/HonorsAP/Launch_Data_Back_Group.txt     4.509   \n",
      "7    Run 9   D:BASIS/Labs/HonorsAP/Launch_Data_Back_Group.txt     4.560   \n",
      "8   Run 10   D:BASIS/Labs/HonorsAP/Launch_Data_Back_Group.txt     4.394   \n",
      "9   Run 11   D:BASIS/Labs/HonorsAP/Launch_Data_Back_Group.txt     4.695   \n",
      "10  Run 12   D:BASIS/Labs/HonorsAP/Launch_Data_Back_Group.txt     4.717   \n",
      "11  Run 13   D:BASIS/Labs/HonorsAP/Launch_Data_Back_Group.txt     4.650   \n",
      "12  Run 14   D:BASIS/Labs/HonorsAP/Launch_Data_Back_Group.txt     5.536   \n",
      "0    Run 1  D:BASIS/Labs/HonorsAP/Launch_Data_Front_Group.txt     5.863   \n",
      "1    Run 2  D:BASIS/Labs/HonorsAP/Launch_Data_Front_Group.txt     5.879   \n",
      "2    Run 3  D:BASIS/Labs/HonorsAP/Launch_Data_Front_Group.txt     6.004   \n",
      "3    Run 4  D:BASIS/Labs/HonorsAP/Launch_Data_Front_Group.txt     6.027   \n",
      "4    Run 5  D:BASIS/Labs/HonorsAP/Launch_Data_Front_Group.txt     6.050   \n",
      "5    Run 6  D:BASIS/Labs/HonorsAP/Launch_Data_Front_Group.txt     6.034   \n",
      "6    Run 8  D:BASIS/Labs/HonorsAP/Launch_Data_Front_Group.txt     6.332   \n",
      "7   Run 11  D:BASIS/Labs/HonorsAP/Launch_Data_Front_Group.txt     5.597   \n",
      "8   Run 12  D:BASIS/Labs/HonorsAP/Launch_Data_Front_Group.txt     4.229   \n",
      "9   Run 13  D:BASIS/Labs/HonorsAP/Launch_Data_Front_Group.txt     4.076   \n",
      "10  Run 14  D:BASIS/Labs/HonorsAP/Launch_Data_Front_Group.txt     4.057   \n",
      "\n",
      "    Flight_time  \n",
      "0       1.45177  \n",
      "1       1.44735  \n",
      "2       1.44601  \n",
      "3       1.44589  \n",
      "4       1.44618  \n",
      "5       1.44627  \n",
      "6       1.44479  \n",
      "7       1.44456  \n",
      "8       1.44640  \n",
      "9       1.44680  \n",
      "10      1.44589  \n",
      "11      1.44369  \n",
      "12      1.44625  \n",
      "0       1.46139  \n",
      "1       1.46153  \n",
      "2       1.46192  \n",
      "3       1.46063  \n",
      "4       1.46155  \n",
      "5       1.46069  \n",
      "6       1.46021  \n",
      "7       1.45836  \n",
      "8       1.45286  \n",
      "9       1.45257  \n",
      "10      1.45258  \n"
     ]
    }
   ],
   "source": [
    "print(pj.pj_data)"
   ]
  },
  {
   "cell_type": "code",
   "execution_count": 379,
   "metadata": {},
   "outputs": [
    {
     "name": "stdout",
     "output_type": "stream",
     "text": [
      "1.4519225 0.0014081071231585572\n"
     ]
    }
   ],
   "source": [
    "mean_flight_time = pj.pj_data['Flight_time'].mean()\n",
    "std_flight_time = pj.pj_data['Flight_time'].std()\n",
    "flight_time_err = std_flight_time/math.sqrt(len(pj.pj_data))\n",
    "print(mean_flight_time,std_flight_time/math.sqrt(len(pj.pj_data)))\n",
    "\n",
    "pj.pj_data['Range'] = pj.pj_data['Velocity']*pj.pj_data['Flight_time']\n",
    "pj.pj_data['Range_error'] = std_flight_time/math.sqrt(len(pj.pj_data))/mean_flight_time*pj.pj_data['Range']"
   ]
  },
  {
   "cell_type": "code",
   "execution_count": 414,
   "metadata": {},
   "outputs": [
    {
     "name": "stdout",
     "output_type": "stream",
     "text": [
      "$R^{2}$: 0.9994012681318726\n",
      "intercept: -0.2053191632754494\n",
      "slope: 1.492473021374578\n"
     ]
    },
    {
     "data": {
      "image/png": "[encoded data removed]",
      "text/plain": [
       "<Figure size 432x288 with 1 Axes>"
      ]
     },
     "metadata": {
      "needs_background": "light"
     },
     "output_type": "display_data"
    }
   ],
   "source": [
    "fig = plt.figure()\n",
    "ax = scatterplot(data=pj.pj_data,x='Velocity',y='Range',hue='File_name',s=50)\n",
    "\n",
    "X = pj.pj_data.iloc[:, 2].values.reshape(-1, 1)\n",
    "Y = pj.pj_data.iloc[:, 4].values.reshape(-1, 1)\n",
    "model = LinearRegression()\n",
    "model.fit(X,Y)\n",
    "\n",
    "r2 = model.score(X,Y)\n",
    "y_int = model.intercept_[0]\n",
    "slope = model.coef_[0][0]\n",
    "print(r'$R^{2}$:',r2)\n",
    "print('intercept:', y_int)\n",
    "print('slope:', slope)\n",
    "\n",
    "pj.pj_data['Range_prediction'] = model.predict(X)\n",
    "ax.plot(X,pj.pj_data['Range_prediction'],color='red',linestyle='-',linewidth=0.5)\n",
    "legend_labels, _= ax.get_legend_handles_labels()\n",
    "ax.legend(legend_labels, ['Groups','Back group','Front group'])\n",
    "ax.set_xlabel('Velocity (m/s)')\n",
    "ax.set_ylabel('Range (m)')\n",
    "ax.annotate(r'$R^{2} = %0.4f$'%r2,(5.5,6.75))\n",
    "ax.annotate(r'$b = %0.4f~\\mathrm{m}$'%y_int,(5.5,6.5))\n",
    "ax.annotate(r'$m = %0.4f~\\mathrm{s}$'%slope,(5.5,6.25))\n",
    "ax.annotate(r'm-error$= %0.4f~\\mathrm{s}$'%flight_time_err,(5.5,6.0))\n",
    "fig.savefig('D:/BASIS/Labs/HonorsAP/projectile_motion1.pdf')"
   ]
  },
  {
   "cell_type": "code",
   "execution_count": null,
   "metadata": {},
   "outputs": [],
   "source": []
  },
  {
   "cell_type": "code",
   "execution_count": null,
   "metadata": {},
   "outputs": [],
   "source": []
  }
 ],
 "metadata": {
  "kernelspec": {
   "display_name": "Python 3",
   "language": "python",
   "name": "python3"
  },
  "language_info": {
   "codemirror_mode": {
    "name": "ipython",
    "version": 3
   },
   "file_extension": ".py",
   "mimetype": "text/x-python",
   "name": "python",
   "nbconvert_exporter": "python",
   "pygments_lexer": "ipython3",
   "version": "3.8.2"
  }
 },
 "nbformat": 4,
 "nbformat_minor": 4
}
